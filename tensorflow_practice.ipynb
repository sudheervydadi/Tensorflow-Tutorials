{
  "nbformat": 4,
  "nbformat_minor": 0,
  "metadata": {
    "colab": {
      "name": "tensorflow_practice.ipynb",
      "provenance": [],
      "collapsed_sections": []
    },
    "kernelspec": {
      "name": "python3",
      "display_name": "Python 3"
    }
  },
  "cells": [
    {
      "cell_type": "code",
      "metadata": {
        "id": "kKRpwmy7G42y",
        "colab_type": "code",
        "colab": {
          "base_uri": "https://localhost:8080/",
          "height": 35
        },
        "outputId": "1181e762-1e8d-47e4-e5be-0fff921eb638"
      },
      "source": [
        "import tensorflow as tf\n",
        "tf.__version__"
      ],
      "execution_count": 165,
      "outputs": [
        {
          "output_type": "execute_result",
          "data": {
            "application/vnd.google.colaboratory.intrinsic+json": {
              "type": "string"
            },
            "text/plain": [
              "'2.3.0'"
            ]
          },
          "metadata": {
            "tags": []
          },
          "execution_count": 165
        }
      ]
    },
    {
      "cell_type": "code",
      "metadata": {
        "id": "6EpZppIML7vP",
        "colab_type": "code",
        "colab": {}
      },
      "source": [
        "import numpy as np\n",
        "import pandas as pd\n",
        "from datetime import datetime"
      ],
      "execution_count": 166,
      "outputs": []
    },
    {
      "cell_type": "code",
      "metadata": {
        "id": "z8tu14BLznCL",
        "colab_type": "code",
        "colab": {
          "base_uri": "https://localhost:8080/",
          "height": 34
        },
        "outputId": "5d674ecc-c87c-4e6a-d9c7-ccfa87778164"
      },
      "source": [
        "from google.colab import drive\n",
        "drive.mount('/gdrive')"
      ],
      "execution_count": 167,
      "outputs": [
        {
          "output_type": "stream",
          "text": [
            "Drive already mounted at /gdrive; to attempt to forcibly remount, call drive.mount(\"/gdrive\", force_remount=True).\n"
          ],
          "name": "stdout"
        }
      ]
    },
    {
      "cell_type": "code",
      "metadata": {
        "id": "sQGYdb8z0gqS",
        "colab_type": "code",
        "colab": {}
      },
      "source": [
        "import os\n",
        "%reload_ext tensorboard"
      ],
      "execution_count": 169,
      "outputs": []
    },
    {
      "cell_type": "code",
      "metadata": {
        "id": "Gg0O6a3wMrTb",
        "colab_type": "code",
        "colab": {
          "base_uri": "https://localhost:8080/",
          "height": 221
        },
        "outputId": "22d192a6-e3b3-42f3-9462-5739b4b64d27"
      },
      "source": [
        "def build_model():\n",
        "    model=tf.keras.Sequential()\n",
        "\n",
        "    model.add(tf.keras.layers.Dense(4,input_shape=(4,)))\n",
        "    #model.add(tf.keras.layers.Dense(25,activation='relu'))\n",
        "    #model.add(tf.keras.layers.Dense(15,activation='relu'))\n",
        "    #model.add(tf.keras.layers.Dense(5,activation='relu'))\n",
        "    model.add(tf.keras.layers.Dense(1))\n",
        "\n",
        "    optimizer = tf.keras.optimizers.Adam(0.001)\n",
        "\n",
        "    model.compile(loss='mse',\n",
        "                optimizer=optimizer,\n",
        "                metrics=['mae', 'mse'])                         \n",
        "    return model\n",
        "\n",
        "model=build_model()\n",
        "model.summary()"
      ],
      "execution_count": 261,
      "outputs": [
        {
          "output_type": "stream",
          "text": [
            "Model: \"sequential_11\"\n",
            "_________________________________________________________________\n",
            "Layer (type)                 Output Shape              Param #   \n",
            "=================================================================\n",
            "dense_35 (Dense)             (None, 4)                 20        \n",
            "_________________________________________________________________\n",
            "dense_36 (Dense)             (None, 1)                 5         \n",
            "=================================================================\n",
            "Total params: 25\n",
            "Trainable params: 25\n",
            "Non-trainable params: 0\n",
            "_________________________________________________________________\n"
          ],
          "name": "stdout"
        }
      ]
    },
    {
      "cell_type": "code",
      "metadata": {
        "id": "5NOohcqoyi2w",
        "colab_type": "code",
        "colab": {
          "base_uri": "https://localhost:8080/",
          "height": 204
        },
        "outputId": "ca94b667-06e8-427d-d704-4b2e8e1c464b"
      },
      "source": [
        "X=np.arange(0,2000).reshape(-1,4)\n",
        "y=np.arange(5,(X.shape[0]+1)*5,5)\n",
        "\n",
        "temp=pd.DataFrame(data=X)\n",
        "temp['target']=pd.Series(y.reshape(-1,))\n",
        "temp.head()"
      ],
      "execution_count": 171,
      "outputs": [
        {
          "output_type": "execute_result",
          "data": {
            "text/html": [
              "<div>\n",
              "<style scoped>\n",
              "    .dataframe tbody tr th:only-of-type {\n",
              "        vertical-align: middle;\n",
              "    }\n",
              "\n",
              "    .dataframe tbody tr th {\n",
              "        vertical-align: top;\n",
              "    }\n",
              "\n",
              "    .dataframe thead th {\n",
              "        text-align: right;\n",
              "    }\n",
              "</style>\n",
              "<table border=\"1\" class=\"dataframe\">\n",
              "  <thead>\n",
              "    <tr style=\"text-align: right;\">\n",
              "      <th></th>\n",
              "      <th>0</th>\n",
              "      <th>1</th>\n",
              "      <th>2</th>\n",
              "      <th>3</th>\n",
              "      <th>target</th>\n",
              "    </tr>\n",
              "  </thead>\n",
              "  <tbody>\n",
              "    <tr>\n",
              "      <th>0</th>\n",
              "      <td>0</td>\n",
              "      <td>1</td>\n",
              "      <td>2</td>\n",
              "      <td>3</td>\n",
              "      <td>5</td>\n",
              "    </tr>\n",
              "    <tr>\n",
              "      <th>1</th>\n",
              "      <td>4</td>\n",
              "      <td>5</td>\n",
              "      <td>6</td>\n",
              "      <td>7</td>\n",
              "      <td>10</td>\n",
              "    </tr>\n",
              "    <tr>\n",
              "      <th>2</th>\n",
              "      <td>8</td>\n",
              "      <td>9</td>\n",
              "      <td>10</td>\n",
              "      <td>11</td>\n",
              "      <td>15</td>\n",
              "    </tr>\n",
              "    <tr>\n",
              "      <th>3</th>\n",
              "      <td>12</td>\n",
              "      <td>13</td>\n",
              "      <td>14</td>\n",
              "      <td>15</td>\n",
              "      <td>20</td>\n",
              "    </tr>\n",
              "    <tr>\n",
              "      <th>4</th>\n",
              "      <td>16</td>\n",
              "      <td>17</td>\n",
              "      <td>18</td>\n",
              "      <td>19</td>\n",
              "      <td>25</td>\n",
              "    </tr>\n",
              "  </tbody>\n",
              "</table>\n",
              "</div>"
            ],
            "text/plain": [
              "    0   1   2   3  target\n",
              "0   0   1   2   3       5\n",
              "1   4   5   6   7      10\n",
              "2   8   9  10  11      15\n",
              "3  12  13  14  15      20\n",
              "4  16  17  18  19      25"
            ]
          },
          "metadata": {
            "tags": []
          },
          "execution_count": 171
        }
      ]
    },
    {
      "cell_type": "code",
      "metadata": {
        "id": "Ufn-ihw3kkLY",
        "colab_type": "code",
        "colab": {
          "base_uri": "https://localhost:8080/",
          "height": 204
        },
        "outputId": "0fb089fa-ec00-4b3c-af17-2c821c2e9103"
      },
      "source": [
        "from sklearn.preprocessing import StandardScaler\n",
        "inputs_standardizer=StandardScaler()\n",
        "inputs_standardizer.fit_transform(temp.drop('target',axis=1).values.tolist())\n",
        "\n",
        "target_standardizer=StandardScaler()\n",
        "target_standardizer.fit_transform(temp['target'].values.reshape(-1,1).tolist())\n",
        "\n",
        "norm_temp=pd.DataFrame(data=inputs_standardizer.fit_transform(temp.drop('target',axis=1).values.tolist()))\n",
        "norm_temp['target']=pd.Series(target_standardizer.fit_transform(temp['target'].values.reshape(-1,1).tolist()).reshape(-1,))\n",
        "norm_temp.head()"
      ],
      "execution_count": 172,
      "outputs": [
        {
          "output_type": "execute_result",
          "data": {
            "text/html": [
              "<div>\n",
              "<style scoped>\n",
              "    .dataframe tbody tr th:only-of-type {\n",
              "        vertical-align: middle;\n",
              "    }\n",
              "\n",
              "    .dataframe tbody tr th {\n",
              "        vertical-align: top;\n",
              "    }\n",
              "\n",
              "    .dataframe thead th {\n",
              "        text-align: right;\n",
              "    }\n",
              "</style>\n",
              "<table border=\"1\" class=\"dataframe\">\n",
              "  <thead>\n",
              "    <tr style=\"text-align: right;\">\n",
              "      <th></th>\n",
              "      <th>0</th>\n",
              "      <th>1</th>\n",
              "      <th>2</th>\n",
              "      <th>3</th>\n",
              "      <th>target</th>\n",
              "    </tr>\n",
              "  </thead>\n",
              "  <tbody>\n",
              "    <tr>\n",
              "      <th>0</th>\n",
              "      <td>-1.728590</td>\n",
              "      <td>-1.728590</td>\n",
              "      <td>-1.728590</td>\n",
              "      <td>-1.728590</td>\n",
              "      <td>-1.728590</td>\n",
              "    </tr>\n",
              "    <tr>\n",
              "      <th>1</th>\n",
              "      <td>-1.721662</td>\n",
              "      <td>-1.721662</td>\n",
              "      <td>-1.721662</td>\n",
              "      <td>-1.721662</td>\n",
              "      <td>-1.721662</td>\n",
              "    </tr>\n",
              "    <tr>\n",
              "      <th>2</th>\n",
              "      <td>-1.714734</td>\n",
              "      <td>-1.714734</td>\n",
              "      <td>-1.714734</td>\n",
              "      <td>-1.714734</td>\n",
              "      <td>-1.714734</td>\n",
              "    </tr>\n",
              "    <tr>\n",
              "      <th>3</th>\n",
              "      <td>-1.707806</td>\n",
              "      <td>-1.707806</td>\n",
              "      <td>-1.707806</td>\n",
              "      <td>-1.707806</td>\n",
              "      <td>-1.707806</td>\n",
              "    </tr>\n",
              "    <tr>\n",
              "      <th>4</th>\n",
              "      <td>-1.700877</td>\n",
              "      <td>-1.700877</td>\n",
              "      <td>-1.700877</td>\n",
              "      <td>-1.700877</td>\n",
              "      <td>-1.700877</td>\n",
              "    </tr>\n",
              "  </tbody>\n",
              "</table>\n",
              "</div>"
            ],
            "text/plain": [
              "          0         1         2         3    target\n",
              "0 -1.728590 -1.728590 -1.728590 -1.728590 -1.728590\n",
              "1 -1.721662 -1.721662 -1.721662 -1.721662 -1.721662\n",
              "2 -1.714734 -1.714734 -1.714734 -1.714734 -1.714734\n",
              "3 -1.707806 -1.707806 -1.707806 -1.707806 -1.707806\n",
              "4 -1.700877 -1.700877 -1.700877 -1.700877 -1.700877"
            ]
          },
          "metadata": {
            "tags": []
          },
          "execution_count": 172
        }
      ]
    },
    {
      "cell_type": "code",
      "metadata": {
        "id": "F9k5QrRrc8Ks",
        "colab_type": "code",
        "colab": {}
      },
      "source": [
        "train_dataset = temp.sample(frac=0.8,random_state=0)\n",
        "test_dataset = temp.drop(train_dataset.index)\n"
      ],
      "execution_count": 173,
      "outputs": []
    },
    {
      "cell_type": "code",
      "metadata": {
        "id": "pLdBm4JSjhzJ",
        "colab_type": "code",
        "colab": {
          "base_uri": "https://localhost:8080/",
          "height": 204
        },
        "outputId": "c6a894c8-6fe0-42b3-eb47-fce10f636aa1"
      },
      "source": [
        "train_stats = temp.describe()\n",
        "train_stats = train_stats.transpose()\n",
        "train_stats"
      ],
      "execution_count": 174,
      "outputs": [
        {
          "output_type": "execute_result",
          "data": {
            "text/html": [
              "<div>\n",
              "<style scoped>\n",
              "    .dataframe tbody tr th:only-of-type {\n",
              "        vertical-align: middle;\n",
              "    }\n",
              "\n",
              "    .dataframe tbody tr th {\n",
              "        vertical-align: top;\n",
              "    }\n",
              "\n",
              "    .dataframe thead th {\n",
              "        text-align: right;\n",
              "    }\n",
              "</style>\n",
              "<table border=\"1\" class=\"dataframe\">\n",
              "  <thead>\n",
              "    <tr style=\"text-align: right;\">\n",
              "      <th></th>\n",
              "      <th>count</th>\n",
              "      <th>mean</th>\n",
              "      <th>std</th>\n",
              "      <th>min</th>\n",
              "      <th>25%</th>\n",
              "      <th>50%</th>\n",
              "      <th>75%</th>\n",
              "      <th>max</th>\n",
              "    </tr>\n",
              "  </thead>\n",
              "  <tbody>\n",
              "    <tr>\n",
              "      <th>0</th>\n",
              "      <td>500.0</td>\n",
              "      <td>998.0</td>\n",
              "      <td>577.927331</td>\n",
              "      <td>0.0</td>\n",
              "      <td>499.00</td>\n",
              "      <td>998.0</td>\n",
              "      <td>1497.00</td>\n",
              "      <td>1996.0</td>\n",
              "    </tr>\n",
              "    <tr>\n",
              "      <th>1</th>\n",
              "      <td>500.0</td>\n",
              "      <td>999.0</td>\n",
              "      <td>577.927331</td>\n",
              "      <td>1.0</td>\n",
              "      <td>500.00</td>\n",
              "      <td>999.0</td>\n",
              "      <td>1498.00</td>\n",
              "      <td>1997.0</td>\n",
              "    </tr>\n",
              "    <tr>\n",
              "      <th>2</th>\n",
              "      <td>500.0</td>\n",
              "      <td>1000.0</td>\n",
              "      <td>577.927331</td>\n",
              "      <td>2.0</td>\n",
              "      <td>501.00</td>\n",
              "      <td>1000.0</td>\n",
              "      <td>1499.00</td>\n",
              "      <td>1998.0</td>\n",
              "    </tr>\n",
              "    <tr>\n",
              "      <th>3</th>\n",
              "      <td>500.0</td>\n",
              "      <td>1001.0</td>\n",
              "      <td>577.927331</td>\n",
              "      <td>3.0</td>\n",
              "      <td>502.00</td>\n",
              "      <td>1001.0</td>\n",
              "      <td>1500.00</td>\n",
              "      <td>1999.0</td>\n",
              "    </tr>\n",
              "    <tr>\n",
              "      <th>target</th>\n",
              "      <td>500.0</td>\n",
              "      <td>1252.5</td>\n",
              "      <td>722.409164</td>\n",
              "      <td>5.0</td>\n",
              "      <td>628.75</td>\n",
              "      <td>1252.5</td>\n",
              "      <td>1876.25</td>\n",
              "      <td>2500.0</td>\n",
              "    </tr>\n",
              "  </tbody>\n",
              "</table>\n",
              "</div>"
            ],
            "text/plain": [
              "        count    mean         std  min     25%     50%      75%     max\n",
              "0       500.0   998.0  577.927331  0.0  499.00   998.0  1497.00  1996.0\n",
              "1       500.0   999.0  577.927331  1.0  500.00   999.0  1498.00  1997.0\n",
              "2       500.0  1000.0  577.927331  2.0  501.00  1000.0  1499.00  1998.0\n",
              "3       500.0  1001.0  577.927331  3.0  502.00  1001.0  1500.00  1999.0\n",
              "target  500.0  1252.5  722.409164  5.0  628.75  1252.5  1876.25  2500.0"
            ]
          },
          "metadata": {
            "tags": []
          },
          "execution_count": 174
        }
      ]
    },
    {
      "cell_type": "code",
      "metadata": {
        "id": "dRJ-OaG8jYCq",
        "colab_type": "code",
        "colab": {}
      },
      "source": [
        "def norm(x):\n",
        "  return (x - train_stats['mean']) / train_stats['std']\n",
        "normed_train_data = norm(train_dataset)\n",
        "normed_test_data = norm(test_dataset)\n",
        "normed_train_target=normed_train_data.pop('target')\n",
        "normed_test_target=normed_test_data.pop('target')"
      ],
      "execution_count": 175,
      "outputs": []
    },
    {
      "cell_type": "code",
      "metadata": {
        "id": "W9vOHNJbeL7S",
        "colab_type": "code",
        "colab": {
          "base_uri": "https://localhost:8080/",
          "height": 904
        },
        "outputId": "e2920d48-fe5c-4bcf-e2a5-e1f90771ccc1"
      },
      "source": [
        "logdir = \"logs/scalars/\" + datetime.now().strftime(\"%Y%m%d-%H%M%S\")\n",
        "tensorboard_callback = tf.keras.callbacks.TensorBoard(log_dir=logdir)\n",
        "history=model.fit(normed_train_data,normed_train_target,validation_split=0.2,epochs=25,verbose=1,callbacks=[tensorboard_callback],batch_size=10)"
      ],
      "execution_count": 262,
      "outputs": [
        {
          "output_type": "stream",
          "text": [
            "Epoch 1/25\n",
            " 1/32 [..............................] - ETA: 0s - loss: 1.3159 - mae: 0.9429 - mse: 1.3159WARNING:tensorflow:Callbacks method `on_train_batch_end` is slow compared to the batch time (batch time: 0.0018s vs `on_train_batch_end` time: 0.0330s). Check your callbacks.\n",
            "32/32 [==============================] - 0s 8ms/step - loss: 1.5477 - mae: 1.0761 - mse: 1.5477 - val_loss: 1.2833 - val_mae: 0.9737 - val_mse: 1.2833\n",
            "Epoch 2/25\n",
            "32/32 [==============================] - 0s 2ms/step - loss: 1.0582 - mae: 0.8889 - mse: 1.0582 - val_loss: 0.8365 - val_mae: 0.7872 - val_mse: 0.8365\n",
            "Epoch 3/25\n",
            "32/32 [==============================] - 0s 2ms/step - loss: 0.6555 - mae: 0.6986 - mse: 0.6555 - val_loss: 0.4860 - val_mae: 0.6001 - val_mse: 0.4860\n",
            "Epoch 4/25\n",
            "32/32 [==============================] - 0s 2ms/step - loss: 0.3573 - mae: 0.5143 - mse: 0.3573 - val_loss: 0.2394 - val_mae: 0.4217 - val_mse: 0.2394\n",
            "Epoch 5/25\n",
            "32/32 [==============================] - 0s 2ms/step - loss: 0.1629 - mae: 0.3460 - mse: 0.1629 - val_loss: 0.0988 - val_mae: 0.2712 - val_mse: 0.0988\n",
            "Epoch 6/25\n",
            "32/32 [==============================] - 0s 2ms/step - loss: 0.0610 - mae: 0.2104 - mse: 0.0610 - val_loss: 0.0317 - val_mae: 0.1540 - val_mse: 0.0317\n",
            "Epoch 7/25\n",
            "32/32 [==============================] - 0s 2ms/step - loss: 0.0176 - mae: 0.1130 - mse: 0.0176 - val_loss: 0.0080 - val_mae: 0.0777 - val_mse: 0.0080\n",
            "Epoch 8/25\n",
            "32/32 [==============================] - 0s 2ms/step - loss: 0.0040 - mae: 0.0532 - mse: 0.0040 - val_loss: 0.0015 - val_mae: 0.0336 - val_mse: 0.0015\n",
            "Epoch 9/25\n",
            "32/32 [==============================] - 0s 2ms/step - loss: 6.9730e-04 - mae: 0.0218 - mse: 6.9730e-04 - val_loss: 2.1892e-04 - val_mae: 0.0128 - val_mse: 2.1892e-04\n",
            "Epoch 10/25\n",
            "32/32 [==============================] - 0s 2ms/step - loss: 9.5043e-05 - mae: 0.0079 - mse: 9.5043e-05 - val_loss: 2.6617e-05 - val_mae: 0.0044 - val_mse: 2.6617e-05\n",
            "Epoch 11/25\n",
            "32/32 [==============================] - 0s 2ms/step - loss: 1.0486e-05 - mae: 0.0026 - mse: 1.0486e-05 - val_loss: 3.2060e-06 - val_mae: 0.0015 - val_mse: 3.2060e-06\n",
            "Epoch 12/25\n",
            "32/32 [==============================] - 0s 2ms/step - loss: 1.2603e-06 - mae: 8.5607e-04 - mse: 1.2603e-06 - val_loss: 3.3033e-07 - val_mae: 4.7796e-04 - val_mse: 3.3033e-07\n",
            "Epoch 13/25\n",
            "32/32 [==============================] - 0s 2ms/step - loss: 1.3536e-07 - mae: 3.0300e-04 - mse: 1.3536e-07 - val_loss: 4.2863e-08 - val_mae: 1.9291e-04 - val_mse: 4.2863e-08\n",
            "Epoch 14/25\n",
            "32/32 [==============================] - 0s 2ms/step - loss: 1.9061e-08 - mae: 1.2713e-04 - mse: 1.9061e-08 - val_loss: 5.5457e-09 - val_mae: 7.3876e-05 - val_mse: 5.5457e-09\n",
            "Epoch 15/25\n",
            "32/32 [==============================] - 0s 2ms/step - loss: 2.4456e-09 - mae: 4.7236e-05 - mse: 2.4456e-09 - val_loss: 7.1224e-10 - val_mae: 2.6611e-05 - val_mse: 7.1224e-10\n",
            "Epoch 16/25\n",
            "32/32 [==============================] - 0s 2ms/step - loss: 3.0229e-10 - mae: 1.6502e-05 - mse: 3.0229e-10 - val_loss: 8.1081e-11 - val_mae: 8.8645e-06 - val_mse: 8.1081e-11\n",
            "Epoch 17/25\n",
            "32/32 [==============================] - 0s 2ms/step - loss: 3.3452e-11 - mae: 5.3130e-06 - mse: 3.3452e-11 - val_loss: 9.7600e-12 - val_mae: 2.7670e-06 - val_mse: 9.7600e-12\n",
            "Epoch 18/25\n",
            "32/32 [==============================] - 0s 2ms/step - loss: 4.4186e-12 - mae: 1.6701e-06 - mse: 4.4186e-12 - val_loss: 1.9197e-12 - val_mae: 1.1790e-06 - val_mse: 1.9197e-12\n",
            "Epoch 19/25\n",
            "32/32 [==============================] - 0s 2ms/step - loss: 1.4275e-12 - mae: 1.0032e-06 - mse: 1.4275e-12 - val_loss: 1.1461e-12 - val_mae: 9.3010e-07 - val_mse: 1.1461e-12\n",
            "Epoch 20/25\n",
            "32/32 [==============================] - 0s 2ms/step - loss: 1.0309e-12 - mae: 8.7461e-07 - mse: 1.0309e-12 - val_loss: 9.3051e-13 - val_mae: 8.3175e-07 - val_mse: 9.3051e-13\n",
            "Epoch 21/25\n",
            "32/32 [==============================] - 0s 2ms/step - loss: 8.5573e-13 - mae: 7.9688e-07 - mse: 8.5573e-13 - val_loss: 7.7385e-13 - val_mae: 7.5225e-07 - val_mse: 7.7385e-13\n",
            "Epoch 22/25\n",
            "32/32 [==============================] - 0s 2ms/step - loss: 7.0628e-13 - mae: 7.2431e-07 - mse: 7.0628e-13 - val_loss: 6.2012e-13 - val_mae: 6.7488e-07 - val_mse: 6.2012e-13\n",
            "Epoch 23/25\n",
            "32/32 [==============================] - 0s 2ms/step - loss: 5.9569e-13 - mae: 6.6741e-07 - mse: 5.9569e-13 - val_loss: 5.4769e-13 - val_mae: 6.3549e-07 - val_mse: 5.4769e-13\n",
            "Epoch 24/25\n",
            "32/32 [==============================] - 0s 2ms/step - loss: 5.1223e-13 - mae: 6.1785e-07 - mse: 5.1223e-13 - val_loss: 4.6348e-13 - val_mae: 5.8429e-07 - val_mse: 4.6348e-13\n",
            "Epoch 25/25\n",
            "32/32 [==============================] - 0s 2ms/step - loss: 4.4238e-13 - mae: 5.7192e-07 - mse: 4.4238e-13 - val_loss: 4.1205e-13 - val_mae: 5.4965e-07 - val_mse: 4.1205e-13\n"
          ],
          "name": "stdout"
        }
      ]
    },
    {
      "cell_type": "code",
      "metadata": {
        "id": "_BVNJvGiC2sV",
        "colab_type": "code",
        "colab": {
          "base_uri": "https://localhost:8080/",
          "height": 669
        },
        "outputId": "ec6254a4-0f44-4246-ff87-878be4bed0a4"
      },
      "source": [
        "residual=pd.DataFrame([{'y_hat':i,'y_pred':j[0],'error':(j[0]-i)} for i,j in zip(test_dataset['target'],target_standardizer.inverse_transform(model.predict(normed_test_data)))])\n",
        "residual['index']=pd.Series(residual.index.values)\n",
        "residual[40:60]"
      ],
      "execution_count": 266,
      "outputs": [
        {
          "output_type": "execute_result",
          "data": {
            "text/html": [
              "<div>\n",
              "<style scoped>\n",
              "    .dataframe tbody tr th:only-of-type {\n",
              "        vertical-align: middle;\n",
              "    }\n",
              "\n",
              "    .dataframe tbody tr th {\n",
              "        vertical-align: top;\n",
              "    }\n",
              "\n",
              "    .dataframe thead th {\n",
              "        text-align: right;\n",
              "    }\n",
              "</style>\n",
              "<table border=\"1\" class=\"dataframe\">\n",
              "  <thead>\n",
              "    <tr style=\"text-align: right;\">\n",
              "      <th></th>\n",
              "      <th>y_hat</th>\n",
              "      <th>y_pred</th>\n",
              "      <th>error</th>\n",
              "      <th>index</th>\n",
              "    </tr>\n",
              "  </thead>\n",
              "  <tbody>\n",
              "    <tr>\n",
              "      <th>40</th>\n",
              "      <td>990</td>\n",
              "      <td>990.262817</td>\n",
              "      <td>0.262817</td>\n",
              "      <td>40</td>\n",
              "    </tr>\n",
              "    <tr>\n",
              "      <th>41</th>\n",
              "      <td>1015</td>\n",
              "      <td>1015.237793</td>\n",
              "      <td>0.237793</td>\n",
              "      <td>41</td>\n",
              "    </tr>\n",
              "    <tr>\n",
              "      <th>42</th>\n",
              "      <td>1020</td>\n",
              "      <td>1020.232788</td>\n",
              "      <td>0.232788</td>\n",
              "      <td>42</td>\n",
              "    </tr>\n",
              "    <tr>\n",
              "      <th>43</th>\n",
              "      <td>1060</td>\n",
              "      <td>1060.192749</td>\n",
              "      <td>0.192749</td>\n",
              "      <td>43</td>\n",
              "    </tr>\n",
              "    <tr>\n",
              "      <th>44</th>\n",
              "      <td>1215</td>\n",
              "      <td>1215.037598</td>\n",
              "      <td>0.037598</td>\n",
              "      <td>44</td>\n",
              "    </tr>\n",
              "    <tr>\n",
              "      <th>45</th>\n",
              "      <td>1220</td>\n",
              "      <td>1220.032471</td>\n",
              "      <td>0.032471</td>\n",
              "      <td>45</td>\n",
              "    </tr>\n",
              "    <tr>\n",
              "      <th>46</th>\n",
              "      <td>1225</td>\n",
              "      <td>1225.027466</td>\n",
              "      <td>0.027466</td>\n",
              "      <td>46</td>\n",
              "    </tr>\n",
              "    <tr>\n",
              "      <th>47</th>\n",
              "      <td>1260</td>\n",
              "      <td>1259.992432</td>\n",
              "      <td>-0.007568</td>\n",
              "      <td>47</td>\n",
              "    </tr>\n",
              "    <tr>\n",
              "      <th>48</th>\n",
              "      <td>1290</td>\n",
              "      <td>1289.962402</td>\n",
              "      <td>-0.037598</td>\n",
              "      <td>48</td>\n",
              "    </tr>\n",
              "    <tr>\n",
              "      <th>49</th>\n",
              "      <td>1315</td>\n",
              "      <td>1314.937378</td>\n",
              "      <td>-0.062622</td>\n",
              "      <td>49</td>\n",
              "    </tr>\n",
              "    <tr>\n",
              "      <th>50</th>\n",
              "      <td>1330</td>\n",
              "      <td>1329.922363</td>\n",
              "      <td>-0.077637</td>\n",
              "      <td>50</td>\n",
              "    </tr>\n",
              "    <tr>\n",
              "      <th>51</th>\n",
              "      <td>1340</td>\n",
              "      <td>1339.912354</td>\n",
              "      <td>-0.087646</td>\n",
              "      <td>51</td>\n",
              "    </tr>\n",
              "    <tr>\n",
              "      <th>52</th>\n",
              "      <td>1370</td>\n",
              "      <td>1369.882324</td>\n",
              "      <td>-0.117676</td>\n",
              "      <td>52</td>\n",
              "    </tr>\n",
              "    <tr>\n",
              "      <th>53</th>\n",
              "      <td>1390</td>\n",
              "      <td>1389.862305</td>\n",
              "      <td>-0.137695</td>\n",
              "      <td>53</td>\n",
              "    </tr>\n",
              "    <tr>\n",
              "      <th>54</th>\n",
              "      <td>1430</td>\n",
              "      <td>1429.822266</td>\n",
              "      <td>-0.177734</td>\n",
              "      <td>54</td>\n",
              "    </tr>\n",
              "    <tr>\n",
              "      <th>55</th>\n",
              "      <td>1445</td>\n",
              "      <td>1444.807251</td>\n",
              "      <td>-0.192749</td>\n",
              "      <td>55</td>\n",
              "    </tr>\n",
              "    <tr>\n",
              "      <th>56</th>\n",
              "      <td>1455</td>\n",
              "      <td>1454.797241</td>\n",
              "      <td>-0.202759</td>\n",
              "      <td>56</td>\n",
              "    </tr>\n",
              "    <tr>\n",
              "      <th>57</th>\n",
              "      <td>1460</td>\n",
              "      <td>1459.792236</td>\n",
              "      <td>-0.207764</td>\n",
              "      <td>57</td>\n",
              "    </tr>\n",
              "    <tr>\n",
              "      <th>58</th>\n",
              "      <td>1465</td>\n",
              "      <td>1464.787231</td>\n",
              "      <td>-0.212769</td>\n",
              "      <td>58</td>\n",
              "    </tr>\n",
              "    <tr>\n",
              "      <th>59</th>\n",
              "      <td>1575</td>\n",
              "      <td>1574.677002</td>\n",
              "      <td>-0.322998</td>\n",
              "      <td>59</td>\n",
              "    </tr>\n",
              "  </tbody>\n",
              "</table>\n",
              "</div>"
            ],
            "text/plain": [
              "    y_hat       y_pred     error  index\n",
              "40    990   990.262817  0.262817     40\n",
              "41   1015  1015.237793  0.237793     41\n",
              "42   1020  1020.232788  0.232788     42\n",
              "43   1060  1060.192749  0.192749     43\n",
              "44   1215  1215.037598  0.037598     44\n",
              "45   1220  1220.032471  0.032471     45\n",
              "46   1225  1225.027466  0.027466     46\n",
              "47   1260  1259.992432 -0.007568     47\n",
              "48   1290  1289.962402 -0.037598     48\n",
              "49   1315  1314.937378 -0.062622     49\n",
              "50   1330  1329.922363 -0.077637     50\n",
              "51   1340  1339.912354 -0.087646     51\n",
              "52   1370  1369.882324 -0.117676     52\n",
              "53   1390  1389.862305 -0.137695     53\n",
              "54   1430  1429.822266 -0.177734     54\n",
              "55   1445  1444.807251 -0.192749     55\n",
              "56   1455  1454.797241 -0.202759     56\n",
              "57   1460  1459.792236 -0.207764     57\n",
              "58   1465  1464.787231 -0.212769     58\n",
              "59   1575  1574.677002 -0.322998     59"
            ]
          },
          "metadata": {
            "tags": []
          },
          "execution_count": 266
        }
      ]
    },
    {
      "cell_type": "code",
      "metadata": {
        "id": "5UFe4MqrhnJ4",
        "colab_type": "code",
        "colab": {
          "base_uri": "https://localhost:8080/",
          "height": 296
        },
        "outputId": "a1ee5405-0d94-44c0-9bda-16c19c91e74e"
      },
      "source": [
        "residual.plot(kind='scatter',y='error',x='index')"
      ],
      "execution_count": 264,
      "outputs": [
        {
          "output_type": "execute_result",
          "data": {
            "text/plain": [
              "<matplotlib.axes._subplots.AxesSubplot at 0x7fc593135208>"
            ]
          },
          "metadata": {
            "tags": []
          },
          "execution_count": 264
        },
        {
          "output_type": "display_data",
          "data": {
            "image/png": "[encoded data removed]",
            "text/plain": [
              "<Figure size 432x288 with 1 Axes>"
            ]
          },
          "metadata": {
            "tags": [],
            "needs_background": "light"
          }
        }
      ]
    },
    {
      "cell_type": "code",
      "metadata": {
        "id": "IYGNzwoUC_dE",
        "colab_type": "code",
        "colab": {
          "base_uri": "https://localhost:8080/",
          "height": 297
        },
        "outputId": "19095272-76d8-4920-f66a-ee628efb9a92"
      },
      "source": [
        "ploter_df=pd.DataFrame(history.history)\n",
        "ploter_df['epoch']=pd.Series(ploter_df.index.values)\n",
        "ploter_df.plot(kind='line',x='epoch',y=['loss','val_loss'])"
      ],
      "execution_count": 265,
      "outputs": [
        {
          "output_type": "execute_result",
          "data": {
            "text/plain": [
              "<matplotlib.axes._subplots.AxesSubplot at 0x7fc59305d668>"
            ]
          },
          "metadata": {
            "tags": []
          },
          "execution_count": 265
        },
        {
          "output_type": "display_data",
          "data": {
            "image/png": "[encoded data removed]",
            "text/plain": [
              "<Figure size 432x288 with 1 Axes>"
            ]
          },
          "metadata": {
            "tags": [],
            "needs_background": "light"
          }
        }
      ]
    },
    {
      "cell_type": "code",
      "metadata": {
        "id": "FGKrAIaqaK4y",
        "colab_type": "code",
        "colab": {
          "base_uri": "https://localhost:8080/",
          "height": 238
        },
        "outputId": "8a800ac7-f334-4237-d4b4-aef3093eb57e"
      },
      "source": [
        "model.weights"
      ],
      "execution_count": 267,
      "outputs": [
        {
          "output_type": "execute_result",
          "data": {
            "text/plain": [
              "[<tf.Variable 'dense_35/kernel:0' shape=(4, 4) dtype=float32, numpy=\n",
              " array([[ 0.04083156, -0.4761791 , -0.60317546,  0.05489169],\n",
              "        [ 0.5042869 , -0.32067814,  0.2713424 ,  0.5627328 ],\n",
              "        [ 0.8442392 , -0.37459305, -0.55768794, -0.4782824 ],\n",
              "        [ 0.3163549 , -0.2988154 , -0.42488408,  0.46203387]],\n",
              "       dtype=float32)>,\n",
              " <tf.Variable 'dense_35/bias:0' shape=(4,) dtype=float32, numpy=array([ 0.00085962, -0.00223667, -0.00714221,  0.00219298], dtype=float32)>,\n",
              " <tf.Variable 'dense_36/kernel:0' shape=(4, 1) dtype=float32, numpy=\n",
              " array([[ 0.34894264],\n",
              "        [-0.26927578],\n",
              "        [-0.20349063],\n",
              "        [-0.42996818]], dtype=float32)>,\n",
              " <tf.Variable 'dense_36/bias:0' shape=(1,) dtype=float32, numpy=array([-0.00141272], dtype=float32)>]"
            ]
          },
          "metadata": {
            "tags": []
          },
          "execution_count": 267
        }
      ]
    },
    {
      "cell_type": "code",
      "metadata": {
        "id": "sua_J_erlkBM",
        "colab_type": "code",
        "colab": {
          "base_uri": "https://localhost:8080/",
          "height": 1000
        },
        "outputId": "f940df23-5c06-471e-ed56-9065f9d9c2f9"
      },
      "source": [
        "def build_model():\n",
        "    model=tf.keras.Sequential()\n",
        "\n",
        "    model.add(tf.keras.layers.Dense(4,input_shape=(4,)))\n",
        "    model.add(tf.keras.layers.Dense(15))\n",
        "    model.add(tf.keras.layers.Dense(1))\n",
        "\n",
        "    optimizer = tf.keras.optimizers.Adam(0.001)\n",
        "\n",
        "    model.compile(loss='mse',\n",
        "                optimizer=optimizer,\n",
        "                metrics=['mae', 'mse'])                         \n",
        "    return model\n",
        "\n",
        "model=build_model()\n",
        "model.summary()\n",
        "\n",
        "\n",
        "X=np.arange(0,2000).reshape(-1,4)\n",
        "y=np.arange(5,(X.shape[0]+1)*5,5)\n",
        "\n",
        "temp=pd.DataFrame(data=X)\n",
        "temp['target']=pd.Series(y.reshape(-1,))\n",
        "from sklearn.preprocessing import StandardScaler\n",
        "inputs_standardizer=StandardScaler()\n",
        "inputs_standardizer.fit_transform(temp.drop('target',axis=1).values.tolist())\n",
        "\n",
        "target_standardizer=StandardScaler()\n",
        "target_standardizer.fit_transform(temp['target'].values.reshape(-1,1).tolist())\n",
        "\n",
        "norm_temp=pd.DataFrame(data=inputs_standardizer.fit_transform(temp.drop('target',axis=1).values.tolist()))\n",
        "norm_temp['target']=pd.Series(target_standardizer.fit_transform(temp['target'].values.reshape(-1,1).tolist()).reshape(-1,))\n",
        "\n",
        "train_dataset = temp.sample(frac=0.8,random_state=0)\n",
        "test_dataset = temp.drop(train_dataset.index)\n",
        "\n",
        "train_stats = temp.describe()\n",
        "train_stats = train_stats.transpose()\n",
        "\n",
        "def norm(x):\n",
        "  return (x - train_stats['mean']) / train_stats['std']\n",
        "normed_train_data = norm(train_dataset)\n",
        "normed_test_data = norm(test_dataset)\n",
        "normed_train_target=normed_train_data.pop('target')\n",
        "normed_test_target=normed_test_data.pop('target')\n",
        "\n",
        "logdir = \"logs/scalars/\" + datetime.now().strftime(\"%Y%m%d-%H%M%S\")\n",
        "tensorboard_callback = tf.keras.callbacks.TensorBoard(log_dir=logdir)\n",
        "early_stoping_callback=tf.keras.callbacks.EarlyStopping(monitor='val_loss',mode='min',verbose=1,restore_best_weights=True)\n",
        "history=model.fit(normed_train_data,normed_train_target,validation_split=0.2,epochs=250,verbose=1,callbacks=[tensorboard_callback,early_stoping_callback],batch_size=10)"
      ],
      "execution_count": 308,
      "outputs": [
        {
          "output_type": "stream",
          "text": [
            "Model: \"sequential_23\"\n",
            "_________________________________________________________________\n",
            "Layer (type)                 Output Shape              Param #   \n",
            "=================================================================\n",
            "dense_81 (Dense)             (None, 4)                 20        \n",
            "_________________________________________________________________\n",
            "dense_82 (Dense)             (None, 15)                75        \n",
            "_________________________________________________________________\n",
            "dense_83 (Dense)             (None, 1)                 16        \n",
            "=================================================================\n",
            "Total params: 111\n",
            "Trainable params: 111\n",
            "Non-trainable params: 0\n",
            "_________________________________________________________________\n",
            "Epoch 1/250\n",
            " 1/32 [..............................] - ETA: 0s - loss: 3.2646 - mae: 1.6101 - mse: 3.2646WARNING:tensorflow:Callbacks method `on_train_batch_end` is slow compared to the batch time (batch time: 0.0029s vs `on_train_batch_end` time: 0.0455s). Check your callbacks.\n",
            "32/32 [==============================] - 0s 7ms/step - loss: 1.4980 - mae: 0.9969 - mse: 1.4980 - val_loss: 0.2148 - val_mae: 0.3964 - val_mse: 0.2148\n",
            "Epoch 2/250\n",
            "32/32 [==============================] - 0s 2ms/step - loss: 0.0386 - mae: 0.1224 - mse: 0.0386 - val_loss: 0.0023 - val_mae: 0.0411 - val_mse: 0.0023\n",
            "Epoch 3/250\n",
            "32/32 [==============================] - 0s 2ms/step - loss: 0.0015 - mae: 0.0299 - mse: 0.0015 - val_loss: 1.3989e-05 - val_mae: 0.0032 - val_mse: 1.3989e-05\n",
            "Epoch 4/250\n",
            "32/32 [==============================] - 0s 2ms/step - loss: 1.7354e-05 - mae: 0.0034 - mse: 1.7354e-05 - val_loss: 4.0259e-06 - val_mae: 0.0017 - val_mse: 4.0259e-06\n",
            "Epoch 5/250\n",
            "32/32 [==============================] - 0s 2ms/step - loss: 6.4784e-07 - mae: 6.1901e-04 - mse: 6.4784e-07 - val_loss: 2.5811e-07 - val_mae: 4.2855e-04 - val_mse: 2.5811e-07\n",
            "Epoch 6/250\n",
            "32/32 [==============================] - 0s 2ms/step - loss: 4.7455e-08 - mae: 1.5085e-04 - mse: 4.7455e-08 - val_loss: 1.1541e-08 - val_mae: 9.3125e-05 - val_mse: 1.1541e-08\n",
            "Epoch 7/250\n",
            "32/32 [==============================] - 0s 2ms/step - loss: 2.2002e-09 - mae: 3.1577e-05 - mse: 2.2002e-09 - val_loss: 4.9122e-10 - val_mae: 1.9212e-05 - val_mse: 4.9122e-10\n",
            "Epoch 8/250\n",
            "32/32 [==============================] - 0s 2ms/step - loss: 6.9887e-11 - mae: 5.7481e-06 - mse: 6.9887e-11 - val_loss: 1.3125e-11 - val_mae: 3.0678e-06 - val_mse: 1.3125e-11\n",
            "Epoch 9/250\n",
            "32/32 [==============================] - 0s 2ms/step - loss: 5.0052e-12 - mae: 1.7721e-06 - mse: 5.0052e-12 - val_loss: 5.1237e-13 - val_mae: 6.1407e-07 - val_mse: 5.1237e-13\n",
            "Epoch 10/250\n",
            "32/32 [==============================] - 0s 2ms/step - loss: 2.1848e-13 - mae: 3.7728e-07 - mse: 2.1848e-13 - val_loss: 1.5057e-13 - val_mae: 3.0331e-07 - val_mse: 1.5057e-13\n",
            "Epoch 11/250\n",
            "32/32 [==============================] - 0s 2ms/step - loss: 1.0373e-13 - mae: 2.5689e-07 - mse: 1.0373e-13 - val_loss: 1.0713e-13 - val_mae: 2.4469e-07 - val_mse: 1.0713e-13\n",
            "Epoch 12/250\n",
            "32/32 [==============================] - 0s 2ms/step - loss: 7.6283e-14 - mae: 2.1198e-07 - mse: 7.6283e-14 - val_loss: 7.6954e-14 - val_mae: 2.0905e-07 - val_mse: 7.6954e-14\n",
            "Epoch 13/250\n",
            "32/32 [==============================] - 0s 2ms/step - loss: 6.3107e-14 - mae: 1.8799e-07 - mse: 6.3107e-14 - val_loss: 6.1161e-14 - val_mae: 1.8429e-07 - val_mse: 6.1161e-14\n",
            "Epoch 14/250\n",
            "32/32 [==============================] - 0s 2ms/step - loss: 4.6075e-14 - mae: 1.5924e-07 - mse: 4.6075e-14 - val_loss: 4.3122e-14 - val_mae: 1.5057e-07 - val_mse: 4.3122e-14\n",
            "Epoch 15/250\n",
            "32/32 [==============================] - 0s 2ms/step - loss: 3.4738e-14 - mae: 1.3463e-07 - mse: 3.4738e-14 - val_loss: 3.2366e-14 - val_mae: 1.2328e-07 - val_mse: 3.2366e-14\n",
            "Epoch 16/250\n",
            "32/32 [==============================] - 0s 2ms/step - loss: 2.9334e-14 - mae: 1.2289e-07 - mse: 2.9334e-14 - val_loss: 2.9002e-14 - val_mae: 1.1707e-07 - val_mse: 2.9002e-14\n",
            "Epoch 17/250\n",
            "32/32 [==============================] - 0s 2ms/step - loss: 2.5538e-14 - mae: 1.1611e-07 - mse: 2.5538e-14 - val_loss: 2.6358e-14 - val_mae: 1.1070e-07 - val_mse: 2.6358e-14\n",
            "Epoch 18/250\n",
            "32/32 [==============================] - 0s 2ms/step - loss: 2.4647e-14 - mae: 1.1506e-07 - mse: 2.4647e-14 - val_loss: 2.3247e-14 - val_mae: 1.0772e-07 - val_mse: 2.3247e-14\n",
            "Epoch 19/250\n",
            "32/32 [==============================] - 0s 2ms/step - loss: 2.2793e-14 - mae: 1.1155e-07 - mse: 2.2793e-14 - val_loss: 1.9819e-14 - val_mae: 1.0111e-07 - val_mse: 1.9819e-14\n",
            "Epoch 20/250\n",
            "32/32 [==============================] - 0s 2ms/step - loss: 2.2099e-14 - mae: 1.0942e-07 - mse: 2.2099e-14 - val_loss: 1.9373e-14 - val_mae: 9.6997e-08 - val_mse: 1.9373e-14\n",
            "Epoch 21/250\n",
            "32/32 [==============================] - 0s 2ms/step - loss: 2.1811e-14 - mae: 1.0807e-07 - mse: 2.1811e-14 - val_loss: 1.8901e-14 - val_mae: 9.6823e-08 - val_mse: 1.8901e-14\n",
            "Epoch 22/250\n",
            " 1/32 [..............................] - ETA: 0s - loss: 1.6120e-14 - mae: 7.1526e-08 - mse: 1.6120e-14Restoring model weights from the end of the best epoch.\n",
            "32/32 [==============================] - 0s 2ms/step - loss: 2.1370e-14 - mae: 1.0698e-07 - mse: 2.1370e-14 - val_loss: 2.3160e-14 - val_mae: 1.0403e-07 - val_mse: 2.3160e-14\n",
            "Epoch 00022: early stopping\n"
          ],
          "name": "stdout"
        }
      ]
    },
    {
      "cell_type": "code",
      "metadata": {
        "id": "H99CHvRjmhAI",
        "colab_type": "code",
        "colab": {
          "base_uri": "https://localhost:8080/",
          "height": 296
        },
        "outputId": "b0df1048-404b-4222-d81e-e69b6d90e072"
      },
      "source": [
        "residual=pd.DataFrame([{'y_hat':i,'y_pred':j[0],'error':(j[0]-i)} for i,j in zip(test_dataset['target'],target_standardizer.inverse_transform(model.predict(normed_test_data)))])\n",
        "residual['index']=pd.Series(residual.index.values)\n",
        "residual.plot(kind='scatter',y='error',x='index')"
      ],
      "execution_count": 309,
      "outputs": [
        {
          "output_type": "execute_result",
          "data": {
            "text/plain": [
              "<matplotlib.axes._subplots.AxesSubplot at 0x7fc591341518>"
            ]
          },
          "metadata": {
            "tags": []
          },
          "execution_count": 309
        },
        {
          "output_type": "display_data",
          "data": {
            "image/png": "[encoded data removed]",
            "text/plain": [
              "<Figure size 432x288 with 1 Axes>"
            ]
          },
          "metadata": {
            "tags": [],
            "needs_background": "light"
          }
        }
      ]
    },
    {
      "cell_type": "code",
      "metadata": {
        "id": "id-L4CT9mt-k",
        "colab_type": "code",
        "colab": {
          "base_uri": "https://localhost:8080/",
          "height": 296
        },
        "outputId": "c4fa9035-0878-40e7-fbd5-5824555620e2"
      },
      "source": [
        "ploter_df=pd.DataFrame(history.history)\n",
        "ploter_df['epoch']=pd.Series(ploter_df.index.values)\n",
        "ploter_df.plot(kind='line',x='epoch',y=['loss','val_loss'])"
      ],
      "execution_count": 310,
      "outputs": [
        {
          "output_type": "execute_result",
          "data": {
            "text/plain": [
              "<matplotlib.axes._subplots.AxesSubplot at 0x7fc593709400>"
            ]
          },
          "metadata": {
            "tags": []
          },
          "execution_count": 310
        },
        {
          "output_type": "display_data",
          "data": {
            "image/png": "[encoded data removed]",
            "text/plain": [
              "<Figure size 432x288 with 1 Axes>"
            ]
          },
          "metadata": {
            "tags": [],
            "needs_background": "light"
          }
        }
      ]
    },
    {
      "cell_type": "code",
      "metadata": {
        "id": "j9NQeYQt2XTh",
        "colab_type": "code",
        "colab": {}
      },
      "source": [
        ""
      ],
      "execution_count": null,
      "outputs": []
    }
  ]
}